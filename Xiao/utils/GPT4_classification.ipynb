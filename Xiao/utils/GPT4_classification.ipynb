{
 "cells": [
  {
   "cell_type": "code",
   "execution_count": 169,
   "metadata": {},
   "outputs": [],
   "source": [
    "import os\n",
    "import json\n",
    "from openai import OpenAI\n",
    "from tqdm import tqdm\n",
    "import json\n",
    "import os\n",
    "import re\n",
    "import dotenv\n"
   ]
  },
  {
   "cell_type": "code",
   "execution_count": 170,
   "metadata": {},
   "outputs": [],
   "source": [
    "import csv\n",
    "import pandas as pd\n",
    "\n",
    "# 创建 CSV 读取器\n",
    "file = open('data/result_mis_letter_zero.csv', 'r', newline='', encoding='utf-8')\n",
    "\n",
    "# 读取 CSV 文件\n",
    "data = pd.read_csv(file)"
   ]
  },
  {
   "cell_type": "code",
   "execution_count": 171,
   "metadata": {},
   "outputs": [],
   "source": [
    "# system = \"You are GPT-4, answer my questions as if you were an expert in the field.\"\n"
   ]
  },
  {
   "cell_type": "code",
   "execution_count": 203,
   "metadata": {},
   "outputs": [],
   "source": [
    "client = OpenAI(\n",
    "    # This is the default and can be omitted\n",
    "    api_key= os.getenv('OPENAI_API_KEY'),\n",
    "    base_url='https://api.aiproxy.io/v1'\n",
    ")\n",
    "\n",
    "def generate_text(inputs):\n",
    "    messages=[\n",
    "          {\"role\": \"user\", \"content\": f'{inputs}'}\n",
    "              ]\n",
    "    # base_prompt = prompts['important']\n",
    "    response = client.chat.completions.create(\n",
    "            # model=\"text-davinci-003\",\n",
    "            model=\"gpt-4-turbo\",\n",
    "            # model=\"gpt-3.5-turbo\",\n",
    "            messages=messages,\n",
    "            # stream=True\n",
    "            temperature=0.6,\n",
    "            max_tokens=512,\n",
    "            top_p=1,\n",
    "            frequency_penalty=0,\n",
    "            presence_penalty=0\n",
    "            )\n",
    "    return response.choices[0].message.content"
   ]
  },
  {
   "cell_type": "code",
   "execution_count": 193,
   "metadata": {},
   "outputs": [],
   "source": [
    "# from openai import OpenAI\n",
    "# client = OpenAI()\n",
    "\n",
    "# def get_embedding(text, model=\"text-embedding-3-large\"):\n",
    "#    text = text.replace(\"\\n\", \" \")\n",
    "#    return client.embeddings.create(input = [text], model=model).data[0].embedding\n",
    "# ori = 'hello'\n",
    "# perb = 'how are u'\n",
    "# emb = get_embedding(ori)"
   ]
  },
  {
   "cell_type": "code",
   "execution_count": 194,
   "metadata": {},
   "outputs": [
    {
     "data": {
      "text/plain": [
       "'Hello! How can I assist you today?'"
      ]
     },
     "execution_count": 194,
     "metadata": {},
     "output_type": "execute_result"
    }
   ],
   "source": [
    "generate_text('hello')"
   ]
  },
  {
   "cell_type": "code",
   "execution_count": 75,
   "metadata": {},
   "outputs": [],
   "source": [
    "ramdom_data = data.sample(10, random_state=1)"
   ]
  },
  {
   "cell_type": "code",
   "execution_count": 177,
   "metadata": {},
   "outputs": [],
   "source": [
    "ramdom_data = data"
   ]
  },
  {
   "cell_type": "code",
   "execution_count": 195,
   "metadata": {},
   "outputs": [
    {
     "name": "stderr",
     "output_type": "stream",
     "text": [
      "200it [05:49,  1.75s/it]\n"
     ]
    }
   ],
   "source": [
    "from tqdm import tqdm\n",
    "for index, row in tqdm(ramdom_data.iterrows()):\n",
    "    # print(f\"q is {row['Content']}, the answer is {row['label']}\")\n",
    "    q = 'Q: Take the {index} letters of the words in {question} and concatenate them.'\n",
    "    target,question,model_output=row['label'],q.format(index=row['ordinal_index'], question=row['Content']),row['pred']\n",
    "\n",
    "    check_prompt = ('Please determine what type of error the prediction is based on the label. \\n'\n",
    "        'The question is: {question}, \\nand the prediction is: {model_output}, \\nthe label is: {target}. \\n'\n",
    "        'The types of the answer are [Totally correct, Method is wrong, Method correct but process wrong, Prediction correct but process wrong]\\n'\n",
    "        'Please always give the choice first, and explain it.\\n'\n",
    "        'For examples: Totally correct. Because...; Method is wrong. Because...; Method correct but process wrong. Because...; Lazy thinking. Because...; Result correct but process wrong. Because...\\n'\n",
    "        'The choice of \"Method is wrong\" means that the steps to solve the problem are wrong, e.g. the original step has 5 steps but the output process has only 3 steps, or an incorrect understanding of the question, etc.\\n'.format(question=question,target=target,model_output=model_output)\n",
    "        ).strip()\n",
    "    \n",
    "    output = generate_text(check_prompt)\n",
    "    # 使用字符串的 split 方法将字符串分割成两部分\n",
    "    label, explanation = output.split(\".\", 1)\n",
    "    # label = label.split('is')[-1]\n",
    "    ramdom_data.at[index, 'class'] = label.replace('\\n', '\\\\n').strip()\n",
    "    ramdom_data.at[index, 'explain'] = explanation.replace('\\n', '\\\\n').strip()\n"
   ]
  },
  {
   "cell_type": "code",
   "execution_count": 196,
   "metadata": {},
   "outputs": [
    {
     "data": {
      "text/html": [
       "<div>\n",
       "<style scoped>\n",
       "    .dataframe tbody tr th:only-of-type {\n",
       "        vertical-align: middle;\n",
       "    }\n",
       "\n",
       "    .dataframe tbody tr th {\n",
       "        vertical-align: top;\n",
       "    }\n",
       "\n",
       "    .dataframe thead th {\n",
       "        text-align: right;\n",
       "    }\n",
       "</style>\n",
       "<table border=\"1\" class=\"dataframe\">\n",
       "  <thead>\n",
       "    <tr style=\"text-align: right;\">\n",
       "      <th></th>\n",
       "      <th>label</th>\n",
       "      <th>num</th>\n",
       "      <th>ordinal_index</th>\n",
       "      <th>Content</th>\n",
       "      <th>pred</th>\n",
       "      <th>class</th>\n",
       "      <th>explain</th>\n",
       "    </tr>\n",
       "  </thead>\n",
       "  <tbody>\n",
       "    <tr>\n",
       "      <th>0</th>\n",
       "      <td>MC</td>\n",
       "      <td>0</td>\n",
       "      <td>first</td>\n",
       "      <td>Morgan Calderon</td>\n",
       "      <td>The first letter of each word in \"Morgan Calde...</td>\n",
       "      <td>Method is wrong</td>\n",
       "      <td>Because the prediction incorrectly concatenate...</td>\n",
       "    </tr>\n",
       "    <tr>\n",
       "      <th>1</th>\n",
       "      <td>rr</td>\n",
       "      <td>2</td>\n",
       "      <td>third</td>\n",
       "      <td>Mervin Carroll</td>\n",
       "      <td>The third letter of each word in Mervin Carrol...</td>\n",
       "      <td>Method correct but process wrong</td>\n",
       "      <td>Because the prediction correctly identified th...</td>\n",
       "    </tr>\n",
       "    <tr>\n",
       "      <th>2</th>\n",
       "      <td>ec</td>\n",
       "      <td>1</td>\n",
       "      <td>second</td>\n",
       "      <td>Bert Schwartz</td>\n",
       "      <td>The second letters of the words in Bert Schwar...</td>\n",
       "      <td>Method is wrong</td>\n",
       "      <td>Because the prediction incorrectly assumes tha...</td>\n",
       "    </tr>\n",
       "    <tr>\n",
       "      <th>3</th>\n",
       "      <td>JKPR</td>\n",
       "      <td>0</td>\n",
       "      <td>first</td>\n",
       "      <td>Jonathon Kelly Parra Rosas</td>\n",
       "      <td>J K P R R are the first letters of each word i...</td>\n",
       "      <td>Prediction correct but process wrong</td>\n",
       "      <td>Because the prediction correctly identified th...</td>\n",
       "    </tr>\n",
       "    <tr>\n",
       "      <th>4</th>\n",
       "      <td>raln</td>\n",
       "      <td>2</td>\n",
       "      <td>third</td>\n",
       "      <td>Darren Diaz Ellis Conner</td>\n",
       "      <td>To find the answer, follow these steps:\\n\\n1. ...</td>\n",
       "      <td>Prediction correct but process wrong</td>\n",
       "      <td>Because the prediction provided the correct an...</td>\n",
       "    </tr>\n",
       "    <tr>\n",
       "      <th>...</th>\n",
       "      <td>...</td>\n",
       "      <td>...</td>\n",
       "      <td>...</td>\n",
       "      <td>...</td>\n",
       "      <td>...</td>\n",
       "      <td>...</td>\n",
       "      <td>...</td>\n",
       "    </tr>\n",
       "    <tr>\n",
       "      <th>195</th>\n",
       "      <td>ezal</td>\n",
       "      <td>2</td>\n",
       "      <td>third</td>\n",
       "      <td>Drew Vazquez Chase Keller</td>\n",
       "      <td>The third letter of each word in Drew Vazquez ...</td>\n",
       "      <td>Prediction correct but process wrong</td>\n",
       "      <td>Because the prediction correctly identifies th...</td>\n",
       "    </tr>\n",
       "    <tr>\n",
       "      <th>196</th>\n",
       "      <td>tiol</td>\n",
       "      <td>3</td>\n",
       "      <td>fourth</td>\n",
       "      <td>Weston Hamilton Lugo Arellano</td>\n",
       "      <td>To find the answer, follow these steps:\\n\\n1. ...</td>\n",
       "      <td>Method correct but process wrong</td>\n",
       "      <td>Because the prediction correctly identifies th...</td>\n",
       "    </tr>\n",
       "    <tr>\n",
       "      <th>197</th>\n",
       "      <td>uh</td>\n",
       "      <td>3</td>\n",
       "      <td>fourth</td>\n",
       "      <td>August Archer</td>\n",
       "      <td>The fourth letter of the word \"August\" is \"g\"....</td>\n",
       "      <td>Prediction correct but process wrong</td>\n",
       "      <td>Because the prediction correctly identifies th...</td>\n",
       "    </tr>\n",
       "    <tr>\n",
       "      <th>198</th>\n",
       "      <td>aa</td>\n",
       "      <td>1</td>\n",
       "      <td>second</td>\n",
       "      <td>Marlin Garza</td>\n",
       "      <td>The second letters of the words \"Marlin\" and \"...</td>\n",
       "      <td>Method is wrong</td>\n",
       "      <td>Because the prediction incorrectly took the se...</td>\n",
       "    </tr>\n",
       "    <tr>\n",
       "      <th>199</th>\n",
       "      <td>LS</td>\n",
       "      <td>0</td>\n",
       "      <td>first</td>\n",
       "      <td>Leslie Sellers</td>\n",
       "      <td>The first letter of each word in Leslie Seller...</td>\n",
       "      <td>Prediction correct but process wrong</td>\n",
       "      <td>Because the prediction correctly identifies th...</td>\n",
       "    </tr>\n",
       "  </tbody>\n",
       "</table>\n",
       "<p>200 rows × 7 columns</p>\n",
       "</div>"
      ],
      "text/plain": [
       "    label  num ordinal_index                        Content  \\\n",
       "0      MC    0         first                Morgan Calderon   \n",
       "1      rr    2         third                 Mervin Carroll   \n",
       "2      ec    1        second                  Bert Schwartz   \n",
       "3    JKPR    0         first     Jonathon Kelly Parra Rosas   \n",
       "4    raln    2         third       Darren Diaz Ellis Conner   \n",
       "..    ...  ...           ...                            ...   \n",
       "195  ezal    2         third      Drew Vazquez Chase Keller   \n",
       "196  tiol    3        fourth  Weston Hamilton Lugo Arellano   \n",
       "197    uh    3        fourth                  August Archer   \n",
       "198    aa    1        second                   Marlin Garza   \n",
       "199    LS    0         first                 Leslie Sellers   \n",
       "\n",
       "                                                  pred  \\\n",
       "0    The first letter of each word in \"Morgan Calde...   \n",
       "1    The third letter of each word in Mervin Carrol...   \n",
       "2    The second letters of the words in Bert Schwar...   \n",
       "3    J K P R R are the first letters of each word i...   \n",
       "4    To find the answer, follow these steps:\\n\\n1. ...   \n",
       "..                                                 ...   \n",
       "195  The third letter of each word in Drew Vazquez ...   \n",
       "196  To find the answer, follow these steps:\\n\\n1. ...   \n",
       "197  The fourth letter of the word \"August\" is \"g\"....   \n",
       "198  The second letters of the words \"Marlin\" and \"...   \n",
       "199  The first letter of each word in Leslie Seller...   \n",
       "\n",
       "                                    class  \\\n",
       "0                         Method is wrong   \n",
       "1        Method correct but process wrong   \n",
       "2                         Method is wrong   \n",
       "3    Prediction correct but process wrong   \n",
       "4    Prediction correct but process wrong   \n",
       "..                                    ...   \n",
       "195  Prediction correct but process wrong   \n",
       "196      Method correct but process wrong   \n",
       "197  Prediction correct but process wrong   \n",
       "198                       Method is wrong   \n",
       "199  Prediction correct but process wrong   \n",
       "\n",
       "                                               explain  \n",
       "0    Because the prediction incorrectly concatenate...  \n",
       "1    Because the prediction correctly identified th...  \n",
       "2    Because the prediction incorrectly assumes tha...  \n",
       "3    Because the prediction correctly identified th...  \n",
       "4    Because the prediction provided the correct an...  \n",
       "..                                                 ...  \n",
       "195  Because the prediction correctly identifies th...  \n",
       "196  Because the prediction correctly identifies th...  \n",
       "197  Because the prediction correctly identifies th...  \n",
       "198  Because the prediction incorrectly took the se...  \n",
       "199  Because the prediction correctly identifies th...  \n",
       "\n",
       "[200 rows x 7 columns]"
      ]
     },
     "execution_count": 196,
     "metadata": {},
     "output_type": "execute_result"
    }
   ],
   "source": [
    "ramdom_data"
   ]
  },
  {
   "cell_type": "code",
   "execution_count": 197,
   "metadata": {},
   "outputs": [
    {
     "data": {
      "text/plain": [
       "5"
      ]
     },
     "execution_count": 197,
     "metadata": {},
     "output_type": "execute_result"
    }
   ],
   "source": [
    "\n",
    "columns = list(ramdom_data.columns)\n",
    "columns.index('class')\n"
   ]
  },
  {
   "cell_type": "code",
   "execution_count": 198,
   "metadata": {},
   "outputs": [],
   "source": [
    "columns.insert(columns.index('Content'), columns.pop(columns.index('class')))  # 将第一列移动到第三列位置\n",
    "columns.insert(columns.index('Content'), columns.pop(columns.index('explain')))\n",
    "label_ori = ramdom_data.reindex(columns=columns)\n"
   ]
  },
  {
   "cell_type": "code",
   "execution_count": 199,
   "metadata": {},
   "outputs": [],
   "source": [
    "label_ori.to_csv('35result_class_mis_letter_zero.csv', index=False, encoding='utf-8')"
   ]
  },
  {
   "cell_type": "markdown",
   "metadata": {},
   "source": [
    "# GSM8K"
   ]
  },
  {
   "cell_type": "code",
   "execution_count": 202,
   "metadata": {},
   "outputs": [],
   "source": [
    "import json\n",
    "content = []\n",
    "with open('data/GSM8K_mis_zero.jsonl', 'r')as file:\n",
    "    for line in file:\n",
    "        data = json.loads(line)\n",
    "        content.append(data)"
   ]
  },
  {
   "cell_type": "code",
   "execution_count": 204,
   "metadata": {},
   "outputs": [
    {
     "name": "stderr",
     "output_type": "stream",
     "text": [
      "0it [00:00, ?it/s]"
     ]
    },
    {
     "name": "stderr",
     "output_type": "stream",
     "text": [
      "100it [08:32,  5.12s/it]\n"
     ]
    }
   ],
   "source": [
    "from tqdm import tqdm\n",
    "for id, item in tqdm(enumerate(content)):\n",
    "    # print(f\"q is {row['Content']}, the answer is {row['label']}\")\n",
    "    question = item['question']\n",
    "    target,question,model_output=item['ground truth'],item['question'],item['pred']\n",
    "\n",
    "    check_prompt = ('Please determine what type of error the prediction is based on the label. \\n'\n",
    "        'The question is: {question}, \\nand the prediction is: {model_output}, \\nthe label is: {target}. \\n'\n",
    "        'The types of the answer are [Totally correct, Method is wrong, Method correct but process wrong, Prediction correct but process wrong]\\n'\n",
    "        'Please always give the choice first, and explain it.\\n'\n",
    "        'For examples: Totally correct. Because...; Method is wrong. Because...; Method correct but process wrong. Because...; Lazy thinking. Because...; Result correct but process wrong. Because...\\n'\n",
    "        'The choice of \"Method is wrong\" means that the steps to solve the problem are wrong, e.g. the original step has 5 steps but the output process has only 3 steps, or an incorrect understanding of the question, etc.\\n'.format(question=question,target=target,model_output=model_output)\n",
    "        ).strip()\n",
    "    \n",
    "    # print(check_prompt)\n",
    "    # print('--seg--')\n",
    "    output = generate_text(check_prompt)\n",
    "    # 使用字符串的 split 方法将字符串分割成两部分\n",
    "    label, explain = output.split(\".\", 1)\n",
    "    item['verify'] = {'label': label, 'explain': explain}\n",
    "\n"
   ]
  },
  {
   "cell_type": "code",
   "execution_count": 205,
   "metadata": {},
   "outputs": [],
   "source": [
    "output_file = 'GSM8K_mis_zero_val.jsonl'\n",
    "with open(output_file, 'w') as f:\n",
    "    # 遍历 JSON 数据列表\n",
    "    for json_data in content:\n",
    "        # 将每个 JSON 对象转换为字符串，并添加换行符\n",
    "        json_line = json.dumps(json_data) + '\\n'\n",
    "        # 将 JSON 对象写入文件\n",
    "        f.write(json_line)"
   ]
  },
  {
   "cell_type": "code",
   "execution_count": 211,
   "metadata": {},
   "outputs": [
    {
     "data": {
      "text/plain": [
       "{'question': 'Kim sleepwalks, to monitor her sleeping hours, she installs a camera in her room. Kim usually goes to sleep at 10 p.m. and wakes up at 6 a.m. She is a sleepwalker. One day, after reviewing the cameras, she finds that she woke up that day and was sleepwalking from 2:15 to 2:38 am.  Also, that day she woke up 5 minutes earlier than usual to go to the bathroom. How many minutes did she sleep on her bed that day?',\n",
       " 'pred': 'To determine how many minutes Kim slept on her bed that day, we first need to find out how long she slept from the time she went to bed until she woke up and sleepwalked. We know that she usually goes to bed at 10 p.m. and wakes up at 6 a.m., so she typically sleeps for 8 hours and 15 minutes (480 minutes).\\n\\nHowever, on the day in question, she woke up earlier than usual to go to the bathroom, so she only slept for the full 8 hours. Therefore, she slept for 480 minutes - the 5 minutes she was up in the bathroom = 475 minutes on her bed that day before the sleepwalking episode.\\n\\nThe sleepwalking episode occurred from 2:15 to 2:38 a.m., which is a duration of 23 minutes. Since Kim was already awake during that time, we need to subtract those minutes from the total amount of time she spent sleeping on her bed that day.\\n\\nSo, the calculation would be: 475 minutes (total time in bed) - 23 minutes (sleepwalking episode) = 452 minutes or 7 hours and 32 minutes.\\n\\nTherefore, Kim slept for 7 hours and 32 minutes on her bed that day.',\n",
       " 'ground truth': 'Out of 24 hours in a day, 10 pm represents 22 hours.\\nUntil 12 p.m. or 24 hours, Kim slept 24 - 22 = <<24-22=2>>2 hours.\\nIn total, Kim usually sleeps 2 + 6 = <<2+6=8>>8 hours a day.\\nIn minutes, Kim usually sleeps 8 * 60 = <<8*60=480>>480 minutes\\nKim was sleepwalking for a total of 38 - 15 = <<38-15=23>>23 minutes.\\nWithin her usual sleep routine, Kim was sleepwalking or awake a total of 23 + 5 =<<23+5=28>>28 minutes.\\nOn that day, Kim slept in her bed for 480 - 28 = <<480-28=452>>452 minutes.\\n#### 452',\n",
       " 'verify': {'label': 'Method correct but process wrong',\n",
       "  'explain': ' Because the overall method used to solve the problem (calculating total sleep time, subtracting time awake due to sleepwalking and other awakenings) is correct. However, there\\'s an error in the initial deduction of how long Kim typically sleeps. The prediction incorrectly states that Kim typically sleeps for \"8 hours and 15 minutes,\" which is an error in reading or interpreting the original data, as the label correctly computes the total usual sleep time as 8 hours (from 10 p.m. to 6 a.m.). Therefore, the process used to arrive at the total sleep time is flawed due to this initial mistake, even though the final numerical answer coincidentally matches the correct answer.'}}"
      ]
     },
     "execution_count": 211,
     "metadata": {},
     "output_type": "execute_result"
    }
   ],
   "source": [
    "content[2]"
   ]
  },
  {
   "cell_type": "code",
   "execution_count": 6,
   "metadata": {},
   "outputs": [],
   "source": [
    "import json\n",
    "content = []\n",
    "with open('GSM8K_mis_zero_val.jsonl', 'r')as file:\n",
    "    for line in file:\n",
    "        data = json.loads(line)\n",
    "        content.append(data)"
   ]
  },
  {
   "cell_type": "code",
   "execution_count": 9,
   "metadata": {},
   "outputs": [
    {
     "name": "stdout",
     "output_type": "stream",
     "text": [
      "{'Method correct but process wrong': 23, 'Totally correct': 43, 'Method is wrong': 32, 'Prediction correct but process wrong': 2}\n"
     ]
    }
   ],
   "source": [
    "label_counts = {}\n",
    "\n",
    "for item in content:\n",
    "    label = item['verify']['label']\n",
    "    if label in label_counts:\n",
    "        label_counts[label] += 1\n",
    "    else:\n",
    "        label_counts[label] = 1\n",
    "\n",
    "print(label_counts)"
   ]
  },
  {
   "cell_type": "code",
   "execution_count": null,
   "metadata": {},
   "outputs": [],
   "source": []
  }
 ],
 "metadata": {
  "kernelspec": {
   "display_name": "d2l",
   "language": "python",
   "name": "python3"
  },
  "language_info": {
   "codemirror_mode": {
    "name": "ipython",
    "version": 3
   },
   "file_extension": ".py",
   "mimetype": "text/x-python",
   "name": "python",
   "nbconvert_exporter": "python",
   "pygments_lexer": "ipython3",
   "version": "3.8.18"
  }
 },
 "nbformat": 4,
 "nbformat_minor": 2
}
