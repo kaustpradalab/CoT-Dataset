{
 "cells": [
  {
   "cell_type": "code",
   "execution_count": 1,
   "metadata": {},
   "outputs": [],
   "source": [
    "from transformers import AutoModelForCausalLM, AutoTokenizer\n",
    "import torch\n",
    "from peft import PeftModel"
   ]
  },
  {
   "cell_type": "code",
   "execution_count": 2,
   "metadata": {},
   "outputs": [
    {
     "data": {
      "application/vnd.jupyter.widget-view+json": {
       "model_id": "553bfaa5191a444ea353c9f25fdbb90c",
       "version_major": 2,
       "version_minor": 0
      },
      "text/plain": [
       "Loading checkpoint shards:   0%|          | 0/3 [00:00<?, ?it/s]"
      ]
     },
     "metadata": {},
     "output_type": "display_data"
    }
   ],
   "source": [
    "model_path  ='/CV/xhr_project/llm/model/Mistral-7B-Instruct-v0.2'\n",
    "# model_path2 = '/CV/xhr_project/llm/model/llama2/Llama-2-7b-chat'\n",
    "# 加载tokenizer\n",
    "tokenizer = AutoTokenizer.from_pretrained(model_path, padding_side=\"left\")\n",
    "# 加载模型\n",
    "model = AutoModelForCausalLM.from_pretrained(model_path,torch_dtype=torch.float16).to('cuda:0')"
   ]
  },
  {
   "cell_type": "code",
   "execution_count": 3,
   "metadata": {},
   "outputs": [],
   "source": [
    "def build_input(prompt, history):\n",
    "    messages = [\n",
    "        {\"role\": \"user\", \"content\": prompt}\n",
    "    ]\n",
    "    \n",
    "    return messages"
   ]
  },
  {
   "cell_type": "code",
   "execution_count": 12,
   "metadata": {},
   "outputs": [],
   "source": [
    "def qa(prompt):\n",
    "    input_str = build_input(prompt=prompt, history=[])\n",
    "    # print(input_str)\n",
    "    input_ids = tokenizer.apply_chat_template(input_str, return_tensors=\"pt\").cuda()\n",
    "\n",
    "    generated_ids = model.generate(input_ids, max_new_tokens=512, pad_token_id=tokenizer.eos_token_id, do_sample=False)\n",
    "    decoded = tokenizer.batch_decode(generated_ids)\n",
    "    # print(len(input_ids[0]), len(decoded[0]))\n",
    "\n",
    "    return decoded[0].split('[/INST]')[-1].replace(tokenizer.eos_token, '').strip()\n"
   ]
  },
  {
   "cell_type": "code",
   "execution_count": 13,
   "metadata": {},
   "outputs": [],
   "source": [
    "coin_template_few = \"Take a deep breath and work on this problem step-by-step.\\\n",
    "                Here are some expamples: \\n \\\n",
    "                Q: A coin is heads up. Ka flips the coin. Sherrie flips the coin. Is the coin still heads up?\\nA: The coin was flipped by Ka and Sherrie. So the coin was flipped 2 times, which is an even number. The coinstarted heads up, so after an even number of flips, it will still be heads up. So the answer is yes.\\n\\n \\\n",
    "                Q: A coin is heads up. Jamey fips the coin. Teressa flips the coin. Is the coin still heads up?\\nA: The coin was flipped by Jamey and Teressa. So the coin was fipped 2 times, which is an even number. Thecoin started heads up, so after an even number of flips, it will still be heads up. So the answer is yes.\\n\\n \\\n",
    "                O: A coin is heads up. Maybelle fips the coin. Shalonda does not fip the coin. Is the coin still heads up?\\nA: The coin was flipped by Maybelle. So the coin was flipped 1 time, which is an odd number. The coin startedheads up, so after an odd number of flips, it will be tails up. So the answer is no.\\n\\n \\\n",
    "                Q: {question}\"\n",
    "\n",
    "coin_template_non = '{question}'\n",
    "\n",
    "coin_template_zero = 'Take a deep breath and work on this problem step-by-step.\\nQuestion: {question}'"
   ]
  },
  {
   "cell_type": "code",
   "execution_count": 14,
   "metadata": {},
   "outputs": [],
   "source": [
    "letter_template_few = \"\"\"Let's think step by step.\\\n",
    "                Here are some expamples: \\n \\\n",
    "                Take the last letters of the words in \"Elon Musk\" and concatenate them.\\nA: The last letter of \"Elon\" is \"n\". The last letter of \"Musk\" is \"k\". Concatenating them is \"nk\". The answer is nk.\\n\\n\\\n",
    "                Q: Take the first letters of the words in \"Larry Page\" and concatenate them.\\nA: The first letter of \"Larry\" is \"L\". The first letter of \"Page\" is \"'P\". Concatenating them is \"LP\". The answer is LP.\\n\\n\\\n",
    "                O: Take the second letters of the words in \"Sergey Brin\" and concatenate them.\\nA: The second letter of \"Sergey\" is \"r\". The second letter of \"Brin\" is \"'i\". Concatenating them is \"ri\". The answer is ri.\\n\\n\\\n",
    "                Q: Take the {index} letters of the words in {question} and concatenate them.\\nA: \"\"\"\n",
    "\n",
    "letter_template_non = \"Q: Take the '{index}'' letters of the words in '{question}' and concatenate them.\\nA: \"\n",
    "\n",
    "letter_template_zero = \"Let's think step by step.\\nQ: Take the '{index}' letter of the words in '{question}' and concatenate them.\\nA: \""
   ]
  },
  {
   "cell_type": "code",
   "execution_count": 15,
   "metadata": {},
   "outputs": [
    {
     "name": "stdout",
     "output_type": "stream",
     "text": [
      "<s> [INST] Let's think step by step.\n",
      "Q: Take the 'second' letter of the words in 'Morgan Calderon' and concatenate them.\n",
      "A:  [/INST] The second letters of each word in \"Morgan Calderon\" are: o, r, g, a, d, e, r, n. When concatenated, they form the word \"orgadern\". However, it's important to note that this word doesn't have any known meaning or significance. It's just a result of following the instructions given in the question.</s>\n"
     ]
    }
   ],
   "source": [
    "prompt = letter_template_zero.format(index='second', question='Morgan Calderon')\n",
    "print(qa(prompt))"
   ]
  },
  {
   "cell_type": "code",
   "execution_count": 49,
   "metadata": {},
   "outputs": [
    {
     "data": {
      "text/plain": [
       "'The information given does not specify whether Darnasia and Emryk flipped the coin heads or tails. In order to determine if the coin is still heads up, we would need to know the outcome of their flips.'"
      ]
     },
     "execution_count": 49,
     "metadata": {},
     "output_type": "execute_result"
    }
   ],
   "source": [
    "qa(prompt=coin_template_zero.format(question='Q: A coin is heads up. Darnasia flips the coin.  Emryk flips the coin.  Is the coin still heads up?'))"
   ]
  },
  {
   "cell_type": "code",
   "execution_count": 46,
   "metadata": {},
   "outputs": [],
   "source": [
    "import pandas as pd\n",
    "from tqdm import tqdm\n",
    "import random\n",
    "\n",
    "df = pd.read_csv('dataset/coin_flip.csv')\n",
    "# filtered_df = df[df['length'] == 7]\n",
    "# sampled_df7 = filtered_df.sample(n=100, random_state=1)\n",
    "sampled_df = df.sample(n=200, random_state=1)"
   ]
  },
  {
   "cell_type": "code",
   "execution_count": 48,
   "metadata": {},
   "outputs": [
    {
     "name": "stderr",
     "output_type": "stream",
     "text": [
      "200it [10:56,  3.28s/it]\n"
     ]
    }
   ],
   "source": [
    "import csv\n",
    "results_non = []\n",
    "for index, row in tqdm(sampled_df.iterrows()):\n",
    "    # q = row['Content']\n",
    "    q = row['inputs']\n",
    "    # index2 = row['ordinal_index']\n",
    "\n",
    "    # result = qa(prompt=letter_template_zero.format(index=index2, question=q))\n",
    "    result = qa(prompt=coin_template_zero.format(question=q))\n",
    "    sampled_df.at[index, 'pred'] = result.replace('\\n', '\\\\n').strip()\n",
    "    # print(result)\n",
    "    results_non.append(result)\n",
    "    # answer = result.split('\\n\\n')[0]\n",
    "    # if answer == 'yes' or 'no':\n",
    "    #     pass\n",
    "    # else:\n",
    "    #     answer = 'unk'\n",
    "    # if answer == row['targets']:\n",
    "    #     accuracy += 1\n",
    "\n",
    "\n",
    "sampled_df.to_csv('output/result_mis_coin_zero.csv', index = False, quoting=csv.QUOTE_NONNUMERIC)"
   ]
  },
  {
   "cell_type": "code",
   "execution_count": 168,
   "metadata": {},
   "outputs": [
    {
     "name": "stderr",
     "output_type": "stream",
     "text": [
      "200it [10:01,  3.01s/it]\n"
     ]
    }
   ],
   "source": [
    "import csv\n",
    "results_non = []\n",
    "for index, row in tqdm(sampled_df.iterrows()):\n",
    "    q = row['Content']\n",
    "    index2 = row['ordinal_index']\n",
    "\n",
    "    result = qa(prompt=letter_template_few.format(index=index2, question=q))\n",
    "    sampled_df.at[index, 'pred'] = result.replace('\\n', '\\\\n').strip()\n",
    "    # print(result)\n",
    "    results_non.append(result)\n",
    "    # answer = result.split('\\n\\n')[0]\n",
    "    # if answer == 'yes' or 'no':\n",
    "    #     pass\n",
    "    # else:\n",
    "    #     answer = 'unk'\n",
    "    # if answer == row['targets']:\n",
    "    #     accuracy += 1\n",
    "\n",
    "\n",
    "sampled_df.to_csv('output/result_letter_few.csv', index = False, quoting=csv.QUOTE_NONNUMERIC)"
   ]
  },
  {
   "cell_type": "code",
   "execution_count": 169,
   "metadata": {},
   "outputs": [
    {
     "name": "stderr",
     "output_type": "stream",
     "text": [
      "200it [03:28,  1.04s/it]\n"
     ]
    }
   ],
   "source": [
    "import csv\n",
    "results_non = []\n",
    "for index, row in tqdm(sampled_df.iterrows()):\n",
    "    q = row['Content']\n",
    "    index2 = row['ordinal_index']\n",
    "\n",
    "    result = qa(prompt=letter_template_non.format(index=index2, question=q))\n",
    "    sampled_df.at[index, 'pred'] = result.replace('\\n', '\\\\n').strip()\n",
    "    # print(result)\n",
    "    results_non.append(result)\n",
    "    # answer = result.split('\\n\\n')[0]\n",
    "    # if answer == 'yes' or 'no':\n",
    "    #     pass\n",
    "    # else:\n",
    "    #     answer = 'unk'\n",
    "    # if answer == row['targets']:\n",
    "    #     accuracy += 1\n",
    "\n",
    "\n",
    "sampled_df.to_csv('output/result_letter_non.csv', index = False, quoting=csv.QUOTE_NONNUMERIC)"
   ]
  },
  {
   "cell_type": "code",
   "execution_count": 110,
   "metadata": {},
   "outputs": [
    {
     "name": "stderr",
     "output_type": "stream",
     "text": [
      "200it [12:04,  3.62s/it]\n"
     ]
    }
   ],
   "source": [
    "sampled_df = df.sample(n=200, random_state=1)\n",
    "import csv\n",
    "results_non = []\n",
    "for index, row in tqdm(sampled_df.iterrows()):\n",
    "    q = row['inputs']\n",
    "\n",
    "    result = qa(prompt=coin_template_non.format(question=q))\n",
    "    sampled_df.at[index, 'pred'] = result.replace('\\n', '\\\\n').strip()\n",
    "    results_non.append(result)\n",
    "    # answer = result.split('\\n\\n')[0]\n",
    "    # if answer == 'yes' or 'no':\n",
    "    #     pass\n",
    "    # else:\n",
    "    #     answer = 'unk'\n",
    "    # if answer == row['targets']:\n",
    "    #     accuracy += 1\n",
    "\n",
    "\n",
    "sampled_df.to_csv('output/result_coin_non.csv', index = False, quoting=csv.QUOTE_NONNUMERIC)"
   ]
  },
  {
   "cell_type": "code",
   "execution_count": 132,
   "metadata": {},
   "outputs": [],
   "source": [
    "def replace_with_ordinal(index):\n",
    "    ordinal_map = {0: \"first\", 1: \"second\", 2: \"third\", 3: \"fourth\", 4: \"fifth\", 5: \"sixth\", 6: \"seventh\", 7: \"eighth\", 8: \"ninth\", 9: \"tenth\", -1: \"last\"}  # 添加更多的序数词，根据需要\n",
    "    ordinal_index = ordinal_map.get(index, str(index))\n",
    "    return ordinal_index"
   ]
  },
  {
   "cell_type": "code",
   "execution_count": 143,
   "metadata": {},
   "outputs": [
    {
     "name": "stderr",
     "output_type": "stream",
     "text": [
      "0it [00:00, ?it/s]"
     ]
    },
    {
     "name": "stderr",
     "output_type": "stream",
     "text": [
      "1000it [00:00, 26878.98it/s]\n"
     ]
    }
   ],
   "source": [
    "import pandas as pd\n",
    "from tqdm import tqdm\n",
    "import random\n",
    "\n",
    "df = pd.read_csv('dataset/full_name.csv')\n",
    "results = []\n",
    "for index, row in tqdm(df.iterrows()):\n",
    "    index2 = row['num']\n",
    "    \n",
    "    ordinal_index = replace_with_ordinal(index2)\n",
    "    # print(f\"index: {index} ---convert to ordinal: {ordinal_index}\")\n",
    "    # print()\n",
    "    df.at[index, 'ordinal_index'] = ordinal_index\n",
    "    # print(result)\n",
    "    # results_non.append(result)\n",
    "columns = list(df.columns)\n",
    "columns.insert(2, columns.pop(columns.index('ordinal_index')))\n",
    "df = df.reindex(columns=columns)\n",
    "df.to_csv('output/full_name_ordinal.csv', index = False, quoting=csv.QUOTE_NONNUMERIC)"
   ]
  },
  {
   "cell_type": "code",
   "execution_count": 56,
   "metadata": {},
   "outputs": [],
   "source": [
    "import json\n",
    "content = []\n",
    "with open('/CV/xhr_project/llm/Paper/nips/dataset/grade-school-math-master/grade_school_math/data/test.jsonl', 'r')as file:\n",
    "    for line in file:\n",
    "        data = json.loads(line)\n",
    "        content.append(data)\n",
    "\n",
    "import random\n",
    "random.seed(11)\n",
    "test_set = random.sample(content, 100)"
   ]
  },
  {
   "cell_type": "code",
   "execution_count": 57,
   "metadata": {},
   "outputs": [],
   "source": [
    "GSM8K_template_non = '{question}'\n",
    "\n",
    "GSM8K_template_zero = \"Let's think step by step. {question}\""
   ]
  },
  {
   "cell_type": "code",
   "execution_count": null,
   "metadata": {},
   "outputs": [],
   "source": [
    "prompt = GSM8K_template_zero.format(question=\"Colby loves going to the movies and every month his parents give him $150 to spend at the movies. Tickets for Fridays and Saturdays cost $10. Tickets for any other day cost $7. Popcorn costs $8 and boxes of candy cost $2. It is the last day of the month and it's a Friday. He wants to make sure he gets a popcorn and box of candy that night. How many movies can he see if he already saw 5 movies on a Friday or Saturday, 8 movies on other days, had 2 tubs of popcorn, and four boxes of candy that month?\")\n",
    "print(prompt, qa(prompt))"
   ]
  },
  {
   "cell_type": "code",
   "execution_count": 59,
   "metadata": {},
   "outputs": [
    {
     "name": "stderr",
     "output_type": "stream",
     "text": [
      "100%|██████████| 100/100 [09:49<00:00,  5.90s/it]\n"
     ]
    }
   ],
   "source": [
    "from tqdm import tqdm\n",
    "for item in tqdm(test_set):\n",
    "    prompt = GSM8K_template_zero.format(question=item['question'])\n",
    "    result = qa(prompt)\n",
    "    item['pred'] = result\n",
    "    item['ground truth'] = item.pop('answer')\n"
   ]
  },
  {
   "cell_type": "code",
   "execution_count": 60,
   "metadata": {},
   "outputs": [
    {
     "data": {
      "text/plain": [
       "{'question': \"Colby loves going to the movies and every month his parents give him $150 to spend at the movies. Tickets for Fridays and Saturdays cost $10. Tickets for any other day cost $7. Popcorn costs $8 and boxes of candy cost $2. It is the last day of the month and it's a Friday. He wants to make sure he gets a popcorn and box of candy that night. How many movies can he see if he already saw 5 movies on a Friday or Saturday, 8 movies on other days, had 2 tubs of popcorn, and four boxes of candy that month?\",\n",
       " 'pred': \"Let's first find out how much Colby spent on movies, popcorn, and candy up to this point in the month.\\n\\n1. Movies:\\n   - 5 Fridays or Saturdays: 5 * $10 = $50\\n   - 8 other days: 8 * $7 = $56\\n   - Already saw: 5 * $10 (Fridays or Saturdays) = $50\\n   - Total movies: 5 (Fridays or Saturdays) + 8 (other days) = 13\\n   - Spent on movies: $50 (Fridays or Saturdays) + $56 (other days) = $106\\n\\n2. Popcorn:\\n   - 2 tubs: $8 * 2 = $16\\n\\n3. Candy:\\n   - 4 boxes: $2 * 4 = $8\\n\\n4. Total spent: $106 (movies) + $16 (popcorn) + $8 (candy) = $120\\n\\n5. Money left: $150 (given) - $120 (spent) = $30\\n\\n6. Movies on this last Friday: $30 / ($10 for ticket + $8 for popcorn + $2 for candy) = $30 / $12 = 2.5\\n\\nSince Colby can't see half a movie, he can only see 2 movies on this last Friday.\\n\\nSo, in total, Colby can see 13 movies + 2 movies = 15 movies in a month.\",\n",
       " 'ground truth': 'He has spent $50 on Fri/Sat movies because 5 x 10 = <<50=50>>50\\nHe has spent $56 on movies the rest of the day because 8 x 7 = <<8*7=56>>56\\nHe has spent $16 on popcorn because 2 x 8 = <<16=16>>16\\nHe has spent $8 on candy because 4 x 2 = <<4*2=8>>8\\nHe has spent 130 in total because 50 + 56 + 16 + 8 = <<50+56+16+8=130>>130\\nHe plans to spend $10 on popcorn and candy because 8 + 2 = <<8+2=10>>10\\nHe has $10 left to spend because 150 - 130 - 10 = <<150-130-10=10>>10\\nHe can see 1 movie because 10 / 10 = <<10/10=1>>1\\n#### 1'}"
      ]
     },
     "execution_count": 60,
     "metadata": {},
     "output_type": "execute_result"
    }
   ],
   "source": [
    "test_set[0]"
   ]
  },
  {
   "cell_type": "code",
   "execution_count": 61,
   "metadata": {},
   "outputs": [
    {
     "name": "stdout",
     "output_type": "stream",
     "text": [
      "JSONL 文件已创建： output/GSM8K_mis_zero.jsonl\n"
     ]
    }
   ],
   "source": [
    "\n",
    "import json\n",
    "\n",
    "# 指定要写入的文件名\n",
    "output_file = \"output/GSM8K_mis_zero.jsonl\"\n",
    "\n",
    "# 打开文件以写入模式\n",
    "with open(output_file, 'w') as f:\n",
    "    # 遍历 JSON 数据列表\n",
    "    for json_data in test_set:\n",
    "        # 将每个 JSON 对象转换为字符串，并添加换行符\n",
    "        json_line = json.dumps(json_data) + '\\n'\n",
    "        # 将 JSON 对象写入文件\n",
    "        f.write(json_line)\n",
    "\n",
    "print(\"JSONL 文件已创建：\", output_file)"
   ]
  },
  {
   "cell_type": "code",
   "execution_count": null,
   "metadata": {},
   "outputs": [],
   "source": []
  }
 ],
 "metadata": {
  "kernelspec": {
   "display_name": "llm23",
   "language": "python",
   "name": "python3"
  },
  "language_info": {
   "codemirror_mode": {
    "name": "ipython",
    "version": 3
   },
   "file_extension": ".py",
   "mimetype": "text/x-python",
   "name": "python",
   "nbconvert_exporter": "python",
   "pygments_lexer": "ipython3",
   "version": "3.9.18"
  }
 },
 "nbformat": 4,
 "nbformat_minor": 2
}
