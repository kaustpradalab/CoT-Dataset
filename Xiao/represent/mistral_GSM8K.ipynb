{
 "cells": [
  {
   "cell_type": "code",
   "execution_count": 1,
   "metadata": {},
   "outputs": [
    {
     "name": "stderr",
     "output_type": "stream",
     "text": [
      "/CV/anaconda3/envs/llm_ref2/lib/python3.10/site-packages/tqdm/auto.py:21: TqdmWarning: IProgress not found. Please update jupyter and ipywidgets. See https://ipywidgets.readthedocs.io/en/stable/user_install.html\n",
      "  from .autonotebook import tqdm as notebook_tqdm\n"
     ]
    }
   ],
   "source": [
    "import json\n",
    "import torch\n",
    "from transformers import AutoModelForCausalLM, AutoTokenizer\n",
    "from repeng import ControlVector, ControlModel, DatasetEntry\n",
    "import pandas as pd"
   ]
  },
  {
   "cell_type": "code",
   "execution_count": 2,
   "metadata": {},
   "outputs": [
    {
     "name": "stderr",
     "output_type": "stream",
     "text": [
      "Loading checkpoint shards: 100%|██████████| 3/3 [00:01<00:00,  1.97it/s]\n"
     ]
    }
   ],
   "source": [
    "model_name = \"/CV/xhr_project/llm/model/Mistral-7B-Instruct-v0.2\"\n",
    "tokenizer = AutoTokenizer.from_pretrained(model_name)\n",
    "tokenizer.pad_token_id = 0\n",
    "model = AutoModelForCausalLM.from_pretrained(model_name, torch_dtype=torch.float16)\n",
    "model = model.to(\"cuda:0\" if torch.cuda.is_available() else \"cpu\")\n",
    "model = ControlModel(model, list(range(-5, -18, -1)))\n",
    "user_tag, asst_tag = \"[INST]\", \"[/INST]\""
   ]
  },
  {
   "cell_type": "code",
   "execution_count": null,
   "metadata": {},
   "outputs": [],
   "source": [
    "content = []\n",
    "with open(\"data/new_dataset/GSM8K_mis_zero_val.jsonl\") as f:\n",
    "    for line in f:\n",
    "        data = json.loads(line)\n",
    "        content.append(data)\n",
    "content"
   ]
  },
  {
   "cell_type": "code",
   "execution_count": 4,
   "metadata": {},
   "outputs": [],
   "source": [
    "\n",
    "suffixes = content\n",
    "# the control vector we're going to make is honest / untruthful, like the paper\n",
    "positive_personas = [\"careful\"]\n",
    "negative_personas = [\"rough\"]\n",
    "\n",
    "def template(persona: str, suffix: str, prompt: str) -> str:\n",
    "    if persona==\"careful\":\n",
    "        result = f\"{user_tag} Please carefully answer the question and comprehensively check the reasoning process. {prompt} {asst_tag} {suffix}\"\n",
    "    elif persona==\"rough\":\n",
    "        result = f\"{user_tag} Please feel free to answer based on the question. {prompt} {asst_tag} {suffix}\"\n",
    "    return result\n",
    "    \n",
    "dataset = []\n",
    "for item in suffixes:\n",
    "    tokens = tokenizer.tokenize(item['pred'])\n",
    "    # we augment our short suffix list by taking lots of different truncations.\n",
    "    # we always chop off the last 5 tokens so the model has something to complete.\n",
    "    if item['verify']['label'] == 'Totally correct':\n",
    "        length = len(tokens) - 5\n",
    "    elif item['verify']['label'] == 'Method correct but process wrong':\n",
    "        length = 10\n",
    "    else:\n",
    "        continue\n",
    "\n",
    "    prompt = item['question']\n",
    "    for i in range(1, length):\n",
    "        truncated = tokenizer.convert_tokens_to_string(tokens[:i])\n",
    "        # print(truncated)\n",
    "        for positive_persona, negative_persona in zip(positive_personas, negative_personas):\n",
    "            dataset.append(\n",
    "                DatasetEntry(\n",
    "                    positive=template(positive_persona, truncated, prompt=prompt),\n",
    "                    negative=template(negative_persona, truncated, prompt=prompt),\n",
    "                )\n",
    "            )"
   ]
  },
  {
   "cell_type": "code",
   "execution_count": 5,
   "metadata": {},
   "outputs": [
    {
     "data": {
      "text/plain": [
       "9653"
      ]
     },
     "execution_count": 5,
     "metadata": {},
     "output_type": "execute_result"
    }
   ],
   "source": [
    "len(dataset)"
   ]
  },
  {
   "cell_type": "code",
   "execution_count": 6,
   "metadata": {},
   "outputs": [
    {
     "name": "stdout",
     "output_type": "stream",
     "text": [
      "dataset[0].positive: [INST] Please carefully answer the question and comprehensively check the reasoning process. Colby loves going to the movies and every month his parents give him $150 to spend at the movies. Tickets for Fridays and Saturdays cost $10. Tickets for any other day cost $7. Popcorn costs $8 and boxes of candy cost $2. It is the last day of the month and it's a Friday. He wants to make sure he gets a popcorn and box of candy that night. How many movies can he see if he already saw 5 movies on a Friday or Saturday, 8 movies on other days, had 2 tubs of popcorn, and four boxes of candy that month? [/INST] Let\n",
      "dataset[0].negative: [INST] Please feel free to answer based on the question. Colby loves going to the movies and every month his parents give him $150 to spend at the movies. Tickets for Fridays and Saturdays cost $10. Tickets for any other day cost $7. Popcorn costs $8 and boxes of candy cost $2. It is the last day of the month and it's a Friday. He wants to make sure he gets a popcorn and box of candy that night. How many movies can he see if he already saw 5 movies on a Friday or Saturday, 8 movies on other days, had 2 tubs of popcorn, and four boxes of candy that month? [/INST] Let\n",
      "dataset[1].positive: [INST] Please carefully answer the question and comprehensively check the reasoning process. Colby loves going to the movies and every month his parents give him $150 to spend at the movies. Tickets for Fridays and Saturdays cost $10. Tickets for any other day cost $7. Popcorn costs $8 and boxes of candy cost $2. It is the last day of the month and it's a Friday. He wants to make sure he gets a popcorn and box of candy that night. How many movies can he see if he already saw 5 movies on a Friday or Saturday, 8 movies on other days, had 2 tubs of popcorn, and four boxes of candy that month? [/INST] Let'\n",
      "dataset[1].negative: [INST] Please feel free to answer based on the question. Colby loves going to the movies and every month his parents give him $150 to spend at the movies. Tickets for Fridays and Saturdays cost $10. Tickets for any other day cost $7. Popcorn costs $8 and boxes of candy cost $2. It is the last day of the month and it's a Friday. He wants to make sure he gets a popcorn and box of candy that night. How many movies can he see if he already saw 5 movies on a Friday or Saturday, 8 movies on other days, had 2 tubs of popcorn, and four boxes of candy that month? [/INST] Let'\n",
      "dataset[2].positive: [INST] Please carefully answer the question and comprehensively check the reasoning process. Colby loves going to the movies and every month his parents give him $150 to spend at the movies. Tickets for Fridays and Saturdays cost $10. Tickets for any other day cost $7. Popcorn costs $8 and boxes of candy cost $2. It is the last day of the month and it's a Friday. He wants to make sure he gets a popcorn and box of candy that night. How many movies can he see if he already saw 5 movies on a Friday or Saturday, 8 movies on other days, had 2 tubs of popcorn, and four boxes of candy that month? [/INST] Let's\n",
      "dataset[2].negative: [INST] Please feel free to answer based on the question. Colby loves going to the movies and every month his parents give him $150 to spend at the movies. Tickets for Fridays and Saturdays cost $10. Tickets for any other day cost $7. Popcorn costs $8 and boxes of candy cost $2. It is the last day of the month and it's a Friday. He wants to make sure he gets a popcorn and box of candy that night. How many movies can he see if he already saw 5 movies on a Friday or Saturday, 8 movies on other days, had 2 tubs of popcorn, and four boxes of candy that month? [/INST] Let's\n",
      "dataset[3].positive: [INST] Please carefully answer the question and comprehensively check the reasoning process. Colby loves going to the movies and every month his parents give him $150 to spend at the movies. Tickets for Fridays and Saturdays cost $10. Tickets for any other day cost $7. Popcorn costs $8 and boxes of candy cost $2. It is the last day of the month and it's a Friday. He wants to make sure he gets a popcorn and box of candy that night. How many movies can he see if he already saw 5 movies on a Friday or Saturday, 8 movies on other days, had 2 tubs of popcorn, and four boxes of candy that month? [/INST] Let's first\n",
      "dataset[3].negative: [INST] Please feel free to answer based on the question. Colby loves going to the movies and every month his parents give him $150 to spend at the movies. Tickets for Fridays and Saturdays cost $10. Tickets for any other day cost $7. Popcorn costs $8 and boxes of candy cost $2. It is the last day of the month and it's a Friday. He wants to make sure he gets a popcorn and box of candy that night. How many movies can he see if he already saw 5 movies on a Friday or Saturday, 8 movies on other days, had 2 tubs of popcorn, and four boxes of candy that month? [/INST] Let's first\n",
      "dataset[4].positive: [INST] Please carefully answer the question and comprehensively check the reasoning process. Colby loves going to the movies and every month his parents give him $150 to spend at the movies. Tickets for Fridays and Saturdays cost $10. Tickets for any other day cost $7. Popcorn costs $8 and boxes of candy cost $2. It is the last day of the month and it's a Friday. He wants to make sure he gets a popcorn and box of candy that night. How many movies can he see if he already saw 5 movies on a Friday or Saturday, 8 movies on other days, had 2 tubs of popcorn, and four boxes of candy that month? [/INST] Let's first find\n",
      "dataset[4].negative: [INST] Please feel free to answer based on the question. Colby loves going to the movies and every month his parents give him $150 to spend at the movies. Tickets for Fridays and Saturdays cost $10. Tickets for any other day cost $7. Popcorn costs $8 and boxes of candy cost $2. It is the last day of the month and it's a Friday. He wants to make sure he gets a popcorn and box of candy that night. How many movies can he see if he already saw 5 movies on a Friday or Saturday, 8 movies on other days, had 2 tubs of popcorn, and four boxes of candy that month? [/INST] Let's first find\n",
      "dataset[5].positive: [INST] Please carefully answer the question and comprehensively check the reasoning process. Colby loves going to the movies and every month his parents give him $150 to spend at the movies. Tickets for Fridays and Saturdays cost $10. Tickets for any other day cost $7. Popcorn costs $8 and boxes of candy cost $2. It is the last day of the month and it's a Friday. He wants to make sure he gets a popcorn and box of candy that night. How many movies can he see if he already saw 5 movies on a Friday or Saturday, 8 movies on other days, had 2 tubs of popcorn, and four boxes of candy that month? [/INST] Let's first find out\n",
      "dataset[5].negative: [INST] Please feel free to answer based on the question. Colby loves going to the movies and every month his parents give him $150 to spend at the movies. Tickets for Fridays and Saturdays cost $10. Tickets for any other day cost $7. Popcorn costs $8 and boxes of candy cost $2. It is the last day of the month and it's a Friday. He wants to make sure he gets a popcorn and box of candy that night. How many movies can he see if he already saw 5 movies on a Friday or Saturday, 8 movies on other days, had 2 tubs of popcorn, and four boxes of candy that month? [/INST] Let's first find out\n",
      "dataset[6].positive: [INST] Please carefully answer the question and comprehensively check the reasoning process. Colby loves going to the movies and every month his parents give him $150 to spend at the movies. Tickets for Fridays and Saturdays cost $10. Tickets for any other day cost $7. Popcorn costs $8 and boxes of candy cost $2. It is the last day of the month and it's a Friday. He wants to make sure he gets a popcorn and box of candy that night. How many movies can he see if he already saw 5 movies on a Friday or Saturday, 8 movies on other days, had 2 tubs of popcorn, and four boxes of candy that month? [/INST] Let's first find out how\n",
      "dataset[6].negative: [INST] Please feel free to answer based on the question. Colby loves going to the movies and every month his parents give him $150 to spend at the movies. Tickets for Fridays and Saturdays cost $10. Tickets for any other day cost $7. Popcorn costs $8 and boxes of candy cost $2. It is the last day of the month and it's a Friday. He wants to make sure he gets a popcorn and box of candy that night. How many movies can he see if he already saw 5 movies on a Friday or Saturday, 8 movies on other days, had 2 tubs of popcorn, and four boxes of candy that month? [/INST] Let's first find out how\n",
      "dataset[7].positive: [INST] Please carefully answer the question and comprehensively check the reasoning process. Colby loves going to the movies and every month his parents give him $150 to spend at the movies. Tickets for Fridays and Saturdays cost $10. Tickets for any other day cost $7. Popcorn costs $8 and boxes of candy cost $2. It is the last day of the month and it's a Friday. He wants to make sure he gets a popcorn and box of candy that night. How many movies can he see if he already saw 5 movies on a Friday or Saturday, 8 movies on other days, had 2 tubs of popcorn, and four boxes of candy that month? [/INST] Let's first find out how much\n",
      "dataset[7].negative: [INST] Please feel free to answer based on the question. Colby loves going to the movies and every month his parents give him $150 to spend at the movies. Tickets for Fridays and Saturdays cost $10. Tickets for any other day cost $7. Popcorn costs $8 and boxes of candy cost $2. It is the last day of the month and it's a Friday. He wants to make sure he gets a popcorn and box of candy that night. How many movies can he see if he already saw 5 movies on a Friday or Saturday, 8 movies on other days, had 2 tubs of popcorn, and four boxes of candy that month? [/INST] Let's first find out how much\n",
      "dataset[8].positive: [INST] Please carefully answer the question and comprehensively check the reasoning process. Colby loves going to the movies and every month his parents give him $150 to spend at the movies. Tickets for Fridays and Saturdays cost $10. Tickets for any other day cost $7. Popcorn costs $8 and boxes of candy cost $2. It is the last day of the month and it's a Friday. He wants to make sure he gets a popcorn and box of candy that night. How many movies can he see if he already saw 5 movies on a Friday or Saturday, 8 movies on other days, had 2 tubs of popcorn, and four boxes of candy that month? [/INST] Let's first find out how much Col\n",
      "dataset[8].negative: [INST] Please feel free to answer based on the question. Colby loves going to the movies and every month his parents give him $150 to spend at the movies. Tickets for Fridays and Saturdays cost $10. Tickets for any other day cost $7. Popcorn costs $8 and boxes of candy cost $2. It is the last day of the month and it's a Friday. He wants to make sure he gets a popcorn and box of candy that night. How many movies can he see if he already saw 5 movies on a Friday or Saturday, 8 movies on other days, had 2 tubs of popcorn, and four boxes of candy that month? [/INST] Let's first find out how much Col\n",
      "dataset[9].positive: [INST] Please carefully answer the question and comprehensively check the reasoning process. Adam has $100 and wants to spend it to open a rock stand. He can buy rocks for $5 each and sell them for $7 each. If he invests all his money in the rock stand but only sells 60% of his inventory, how much money does he lose? [/INST] Let\n",
      "dataset[9].negative: [INST] Please feel free to answer based on the question. Adam has $100 and wants to spend it to open a rock stand. He can buy rocks for $5 each and sell them for $7 each. If he invests all his money in the rock stand but only sells 60% of his inventory, how much money does he lose? [/INST] Let\n",
      "dataset[10].positive: [INST] Please carefully answer the question and comprehensively check the reasoning process. Adam has $100 and wants to spend it to open a rock stand. He can buy rocks for $5 each and sell them for $7 each. If he invests all his money in the rock stand but only sells 60% of his inventory, how much money does he lose? [/INST] Let'\n",
      "dataset[10].negative: [INST] Please feel free to answer based on the question. Adam has $100 and wants to spend it to open a rock stand. He can buy rocks for $5 each and sell them for $7 each. If he invests all his money in the rock stand but only sells 60% of his inventory, how much money does he lose? [/INST] Let'\n",
      "dataset[11].positive: [INST] Please carefully answer the question and comprehensively check the reasoning process. Adam has $100 and wants to spend it to open a rock stand. He can buy rocks for $5 each and sell them for $7 each. If he invests all his money in the rock stand but only sells 60% of his inventory, how much money does he lose? [/INST] Let's\n",
      "dataset[11].negative: [INST] Please feel free to answer based on the question. Adam has $100 and wants to spend it to open a rock stand. He can buy rocks for $5 each and sell them for $7 each. If he invests all his money in the rock stand but only sells 60% of his inventory, how much money does he lose? [/INST] Let's\n",
      "dataset[12].positive: [INST] Please carefully answer the question and comprehensively check the reasoning process. Adam has $100 and wants to spend it to open a rock stand. He can buy rocks for $5 each and sell them for $7 each. If he invests all his money in the rock stand but only sells 60% of his inventory, how much money does he lose? [/INST] Let's first\n",
      "dataset[12].negative: [INST] Please feel free to answer based on the question. Adam has $100 and wants to spend it to open a rock stand. He can buy rocks for $5 each and sell them for $7 each. If he invests all his money in the rock stand but only sells 60% of his inventory, how much money does he lose? [/INST] Let's first\n",
      "dataset[13].positive: [INST] Please carefully answer the question and comprehensively check the reasoning process. Adam has $100 and wants to spend it to open a rock stand. He can buy rocks for $5 each and sell them for $7 each. If he invests all his money in the rock stand but only sells 60% of his inventory, how much money does he lose? [/INST] Let's first find\n",
      "dataset[13].negative: [INST] Please feel free to answer based on the question. Adam has $100 and wants to spend it to open a rock stand. He can buy rocks for $5 each and sell them for $7 each. If he invests all his money in the rock stand but only sells 60% of his inventory, how much money does he lose? [/INST] Let's first find\n",
      "dataset[14].positive: [INST] Please carefully answer the question and comprehensively check the reasoning process. Adam has $100 and wants to spend it to open a rock stand. He can buy rocks for $5 each and sell them for $7 each. If he invests all his money in the rock stand but only sells 60% of his inventory, how much money does he lose? [/INST] Let's first find out\n",
      "dataset[14].negative: [INST] Please feel free to answer based on the question. Adam has $100 and wants to spend it to open a rock stand. He can buy rocks for $5 each and sell them for $7 each. If he invests all his money in the rock stand but only sells 60% of his inventory, how much money does he lose? [/INST] Let's first find out\n",
      "dataset[15].positive: [INST] Please carefully answer the question and comprehensively check the reasoning process. Adam has $100 and wants to spend it to open a rock stand. He can buy rocks for $5 each and sell them for $7 each. If he invests all his money in the rock stand but only sells 60% of his inventory, how much money does he lose? [/INST] Let's first find out how\n",
      "dataset[15].negative: [INST] Please feel free to answer based on the question. Adam has $100 and wants to spend it to open a rock stand. He can buy rocks for $5 each and sell them for $7 each. If he invests all his money in the rock stand but only sells 60% of his inventory, how much money does he lose? [/INST] Let's first find out how\n",
      "dataset[16].positive: [INST] Please carefully answer the question and comprehensively check the reasoning process. Adam has $100 and wants to spend it to open a rock stand. He can buy rocks for $5 each and sell them for $7 each. If he invests all his money in the rock stand but only sells 60% of his inventory, how much money does he lose? [/INST] Let's first find out how many\n",
      "dataset[16].negative: [INST] Please feel free to answer based on the question. Adam has $100 and wants to spend it to open a rock stand. He can buy rocks for $5 each and sell them for $7 each. If he invests all his money in the rock stand but only sells 60% of his inventory, how much money does he lose? [/INST] Let's first find out how many\n",
      "dataset[17].positive: [INST] Please carefully answer the question and comprehensively check the reasoning process. Adam has $100 and wants to spend it to open a rock stand. He can buy rocks for $5 each and sell them for $7 each. If he invests all his money in the rock stand but only sells 60% of his inventory, how much money does he lose? [/INST] Let's first find out how many rocks\n",
      "dataset[17].negative: [INST] Please feel free to answer based on the question. Adam has $100 and wants to spend it to open a rock stand. He can buy rocks for $5 each and sell them for $7 each. If he invests all his money in the rock stand but only sells 60% of his inventory, how much money does he lose? [/INST] Let's first find out how many rocks\n",
      "dataset[18].positive: [INST] Please carefully answer the question and comprehensively check the reasoning process. Adam has $100 and wants to spend it to open a rock stand. He can buy rocks for $5 each and sell them for $7 each. If he invests all his money in the rock stand but only sells 60% of his inventory, how much money does he lose? [/INST] Let's first find out how many rocks Adam\n",
      "dataset[18].negative: [INST] Please feel free to answer based on the question. Adam has $100 and wants to spend it to open a rock stand. He can buy rocks for $5 each and sell them for $7 each. If he invests all his money in the rock stand but only sells 60% of his inventory, how much money does he lose? [/INST] Let's first find out how many rocks Adam\n",
      "dataset[19].positive: [INST] Please carefully answer the question and comprehensively check the reasoning process. Adam has $100 and wants to spend it to open a rock stand. He can buy rocks for $5 each and sell them for $7 each. If he invests all his money in the rock stand but only sells 60% of his inventory, how much money does he lose? [/INST] Let's first find out how many rocks Adam can\n",
      "dataset[19].negative: [INST] Please feel free to answer based on the question. Adam has $100 and wants to spend it to open a rock stand. He can buy rocks for $5 each and sell them for $7 each. If he invests all his money in the rock stand but only sells 60% of his inventory, how much money does he lose? [/INST] Let's first find out how many rocks Adam can\n",
      "dataset[20].positive: [INST] Please carefully answer the question and comprehensively check the reasoning process. Adam has $100 and wants to spend it to open a rock stand. He can buy rocks for $5 each and sell them for $7 each. If he invests all his money in the rock stand but only sells 60% of his inventory, how much money does he lose? [/INST] Let's first find out how many rocks Adam can buy\n",
      "dataset[20].negative: [INST] Please feel free to answer based on the question. Adam has $100 and wants to spend it to open a rock stand. He can buy rocks for $5 each and sell them for $7 each. If he invests all his money in the rock stand but only sells 60% of his inventory, how much money does he lose? [/INST] Let's first find out how many rocks Adam can buy\n",
      "dataset[21].positive: [INST] Please carefully answer the question and comprehensively check the reasoning process. Adam has $100 and wants to spend it to open a rock stand. He can buy rocks for $5 each and sell them for $7 each. If he invests all his money in the rock stand but only sells 60% of his inventory, how much money does he lose? [/INST] Let's first find out how many rocks Adam can buy with\n",
      "dataset[21].negative: [INST] Please feel free to answer based on the question. Adam has $100 and wants to spend it to open a rock stand. He can buy rocks for $5 each and sell them for $7 each. If he invests all his money in the rock stand but only sells 60% of his inventory, how much money does he lose? [/INST] Let's first find out how many rocks Adam can buy with\n",
      "dataset[22].positive: [INST] Please carefully answer the question and comprehensively check the reasoning process. Adam has $100 and wants to spend it to open a rock stand. He can buy rocks for $5 each and sell them for $7 each. If he invests all his money in the rock stand but only sells 60% of his inventory, how much money does he lose? [/INST] Let's first find out how many rocks Adam can buy with his\n",
      "dataset[22].negative: [INST] Please feel free to answer based on the question. Adam has $100 and wants to spend it to open a rock stand. He can buy rocks for $5 each and sell them for $7 each. If he invests all his money in the rock stand but only sells 60% of his inventory, how much money does he lose? [/INST] Let's first find out how many rocks Adam can buy with his\n",
      "dataset[23].positive: [INST] Please carefully answer the question and comprehensively check the reasoning process. Adam has $100 and wants to spend it to open a rock stand. He can buy rocks for $5 each and sell them for $7 each. If he invests all his money in the rock stand but only sells 60% of his inventory, how much money does he lose? [/INST] Let's first find out how many rocks Adam can buy with his $\n",
      "dataset[23].negative: [INST] Please feel free to answer based on the question. Adam has $100 and wants to spend it to open a rock stand. He can buy rocks for $5 each and sell them for $7 each. If he invests all his money in the rock stand but only sells 60% of his inventory, how much money does he lose? [/INST] Let's first find out how many rocks Adam can buy with his $\n",
      "dataset[24].positive: [INST] Please carefully answer the question and comprehensively check the reasoning process. Adam has $100 and wants to spend it to open a rock stand. He can buy rocks for $5 each and sell them for $7 each. If he invests all his money in the rock stand but only sells 60% of his inventory, how much money does he lose? [/INST] Let's first find out how many rocks Adam can buy with his $1\n",
      "dataset[24].negative: [INST] Please feel free to answer based on the question. Adam has $100 and wants to spend it to open a rock stand. He can buy rocks for $5 each and sell them for $7 each. If he invests all his money in the rock stand but only sells 60% of his inventory, how much money does he lose? [/INST] Let's first find out how many rocks Adam can buy with his $1\n"
     ]
    }
   ],
   "source": [
    "# print some example entries\n",
    "for i in range(25):\n",
    "    print(f\"dataset[{i}].positive:\", dataset[i].positive)\n",
    "    print(f\"dataset[{i}].negative:\", dataset[i].negative)"
   ]
  },
  {
   "cell_type": "markdown",
   "metadata": {},
   "source": [
    "第一个进度条用于前向传递，我们在其中收集隐藏状态，第二个进度条针对这些隐藏状态拟合层 PCA，总共仅一分多钟。"
   ]
  },
  {
   "cell_type": "code",
   "execution_count": 7,
   "metadata": {},
   "outputs": [
    {
     "name": "stderr",
     "output_type": "stream",
     "text": [
      "100%|██████████| 1207/1207 [16:51<00:00,  1.19it/s]\n",
      "100%|██████████| 31/31 [00:37<00:00,  1.21s/it]\n"
     ]
    }
   ],
   "source": [
    "model.reset() # make sure you always reset the model before training a new vector\n",
    "control_vector = ControlVector.train(\n",
    "    model,\n",
    "    tokenizer,\n",
    "    dataset,\n",
    ")"
   ]
  },
  {
   "cell_type": "code",
   "execution_count": 11,
   "metadata": {},
   "outputs": [
    {
     "name": "stdout",
     "output_type": "stream",
     "text": [
      "==baseline\n",
      "<s> [INST] Colby loves going to the movies and every month his parents give him $150 to spend at the movies. Tickets for Fridays and Saturdays cost $10. Tickets for any other day cost $7. Popcorn costs $8 and boxes of candy cost $2. It is the last day of the month and it's a Friday. He wants to make sure he gets a popcorn and box of candy that night. How many movies can he see if he already saw 5 movies on a Friday or Saturday, 8 movies on other days, had 2 tubs of popcorn, and four boxes of candy that month? [/INST] First, let's find out how much Colby spent on movies, popcorn, and candy throughout the month.\n",
      "\n",
      "Movies on Fridays or Saturdays: 5 tickets * $10 = $50\n",
      "Movies on other days: 8 tickets * $7 = $56\n",
      "Total movies: 5 (Fridays or Saturdays) + 8 (other days) = 13 movies\n",
      "\n",
      "Popcorn: 2 tubs * $8 = $16\n",
      "Candy: 4 boxes * $2 = $8\n",
      "\n",
      "Total spent on movies, popcorn, and candy: $50 (movies on Fridays or Saturdays) + $56 (movies on other days) + $16 (popcorn) + $8 (candy) = $120\n",
      "\n",
      "Now, let's find out how many movies Colby can see on this last Friday with a popcorn and a box of candy:\n",
      "\n",
      "Movie ticket: $10\n",
      "Popcorn: $8\n",
      "Box of candy: $2\n",
      "\n",
      "Total cost for one movie, popcorn, and a box of candy: $10 + $8 + $2 = $20\n",
      "\n",
      "Since Colby's parents gave him $150 for the month, and he already spent $120, he has $30 left for this last Friday. He wants to see a movie, get popcorn, and a box of candy, so the cost for this last visit is $20. Colby can see one more movie on this last Friday.\n",
      "\n",
      "Therefore, Colby can see a total of 14 movies throughout the month.</s>\n",
      "\n",
      "++control\n",
      "<s> [INST] Colby loves going to the movies and every month his parents give him $150 to spend at the movies. Tickets for Fridays and Saturdays cost $10. Tickets for any other day cost $7. Popcorn costs $8 and boxes of candy cost $2. It is the last day of the month and it's a Friday. He wants to make sure he gets a popcorn and box of candy that night. How many movies can he see if he already saw 5 movies on a Friday or Saturday, 8 movies on other days, had 2 tubs of popcorn, and four boxes of candy that month? [/INST] To determine how many movies Colby can see on this last Friday of the month, we need to first check if he has enough money for tickets, popcorn, and candy for this movie outing.\n",
      "\n",
      "Let's break down the expenses:\n",
      "\n",
      "1. Ticket: $10 (Friday or Saturday)\n",
      "2. Popcorn: $8\n",
      "3. Box of candy: $2\n",
      "\n",
      "First, let's calculate the total amount spent on tickets, popcorn, and candy throughout the month:\n",
      "\n",
      "1. Tickets: 5 (Friday or Saturday) * $10 + 8 (other days) * $7 + (this movie) * $10 = $65 (checked) + $56 + $10 = $131\n",
      "2. Popcorn: 2 * $8 = $16 (checked)\n",
      "3. Box of candy: 4 * $2 = $8 (checked)\n",
      "\n",
      "Now, let's check if Colby has enough money left in his $150 budget to ensure he can buy a ticket, popcorn, and a box of candy on this last Friday:\n",
      "\n",
      "$150 (given) > $131 (checked) + $10 (this movie) + $8 (popcorn) + $2 (candy)\n",
      "\n",
      "The check passes, so Colby can indeed afford to see another movie and get a popcorn and a box of candy.\n",
      "\n",
      "Therefore, Colby can see a total of 7 movies in a month, including this last Friday's movie.</s>\n",
      "\n",
      "--control\n",
      "<s> [INST] Colby loves going to the movies and every month his parents give him $150 to spend at the movies. Tickets for Fridays and Saturdays cost $10. Tickets for any other day cost $7. Popcorn costs $8 and boxes of candy cost $2. It is the last day of the month and it's a Friday. He wants to make sure he gets a popcorn and box of candy that night. How many movies can he see if he already saw 5 movies on a Friday or Saturday, 8 movies on other days, had 2 tubs of popcorn, and four boxes of candy that month? [/INST] First, let's find out how much Colby spent on movies, popcorn, and candy during the month.\n",
      "\n",
      "Movie tickets:\n",
      "- 5 Fridays or Saturdays = 5 * $10 = $50\n",
      "- 8 other days = 8 * $7 = $56\n",
      "Total movie tickets = $50 + $56 = $106\n",
      "\n",
      "Popcorn:\n",
      "- 2 tubs = 2 * $8 = $16\n",
      "\n",
      "Candy:\n",
      "- 4 boxes = 4 * $2 = $8\n",
      "\n",
      "Total popcorn and candy = $16 + $8 = $24\n",
      "\n",
      "Now, let's find out how many movies Colby can see on the last Friday of the month.\n",
      "\n",
      "Money left for movies = $150 - $106 (movies) - $24 (popcorn and candy) = $120\n",
      "\n",
      "Number of movies on a Friday or Saturday = $120 / $10 = 12 movies\n",
      "\n",
      "So, Colby can see 12 movies on the last Friday of the month.</s>\n"
     ]
    }
   ],
   "source": [
    "prompt = (\"Colby loves going to the movies and every month his parents give him $150 to spend at the movies. Tickets for Fridays and Saturdays cost $10. Tickets for any other day cost $7. Popcorn costs $8 and boxes of candy cost $2. It is the last day of the month and it's a Friday. He wants to make sure he gets a popcorn and box of candy that night. How many movies can he see if he already saw 5 movies on a Friday or Saturday, 8 movies on other days, had 2 tubs of popcorn, and four boxes of candy that month?\").strip()\n",
    "# this question is taken from the paper\n",
    "input = f\"{user_tag} {prompt} {asst_tag}\"\n",
    "# tokenizer and generation settings\n",
    "input_ids = tokenizer(input, return_tensors=\"pt\").to(model.device)\n",
    "settings = {\n",
    "    \"pad_token_id\": tokenizer.eos_token_id, # silence warning\n",
    "    \"do_sample\": False, # temperature=0\n",
    "    \"max_new_tokens\": 512,\n",
    "    # \"repetition_penalty\": 1.1, # reduce control jank\n",
    "}\n",
    "\n",
    "print(\"==baseline\")\n",
    "model.reset()\n",
    "print(tokenizer.decode(model.generate(**input_ids, **settings).squeeze()))\n",
    "print(\"\\n++control\")\n",
    "# add the control vector with a certain strength (try increasing or decreasing this!)\n",
    "model.set_control(control_vector, 1)\n",
    "print(tokenizer.decode(model.generate(**input_ids, **settings).squeeze()))\n",
    "print(\"\\n--control\")\n",
    "# subtract the control vector, giving the opposite result (e.g. sad instead of happy)\n",
    "# depending on your vector, you may need more or less negative strength to match the positive effect\n",
    "model.set_control(control_vector, -1)\n",
    "print(tokenizer.decode(model.generate(**input_ids, **settings).squeeze()))\n",
    "model.reset()"
   ]
  },
  {
   "cell_type": "code",
   "execution_count": null,
   "metadata": {},
   "outputs": [],
   "source": []
  }
 ],
 "metadata": {
  "kernelspec": {
   "display_name": "llm_ref",
   "language": "python",
   "name": "python3"
  },
  "language_info": {
   "codemirror_mode": {
    "name": "ipython",
    "version": 3
   },
   "file_extension": ".py",
   "mimetype": "text/x-python",
   "name": "python",
   "nbconvert_exporter": "python",
   "pygments_lexer": "ipython3",
   "version": "3.10.14"
  }
 },
 "nbformat": 4,
 "nbformat_minor": 2
}
