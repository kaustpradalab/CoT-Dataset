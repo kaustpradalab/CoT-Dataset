{
 "cells": [
  {
   "cell_type": "code",
   "execution_count": 1,
   "id": "60d4f2f3-0e04-46ba-a7a4-ce723abe9c5a",
   "metadata": {},
   "outputs": [
    {
     "name": "stderr",
     "output_type": "stream",
     "text": [
      "2023-10-11 08:05:19.726206: I tensorflow/core/platform/cpu_feature_guard.cc:182] This TensorFlow binary is optimized to use available CPU instructions in performance-critical operations.\n",
      "To enable the following instructions: AVX2 FMA, in other operations, rebuild TensorFlow with the appropriate compiler flags.\n",
      "2023-10-11 08:05:20.641219: W tensorflow/compiler/tf2tensorrt/utils/py_utils.cc:38] TF-TRT Warning: Could not find TensorRT\n"
     ]
    },
    {
     "name": "stdout",
     "output_type": "stream",
     "text": [
      "[2023-10-11 08:05:23,027] [INFO] [real_accelerator.py:158:get_accelerator] Setting ds_accelerator to cuda (auto detect)\n"
     ]
    }
   ],
   "source": [
    "import sys\n",
    "from itertools import islice\n",
    "import torch\n",
    "import numpy as np\n",
    "import matplotlib.pyplot as plt\n",
    "from transformers import AutoModelForCausalLM, AutoTokenizer, pipeline\n",
    "\n",
    "# Local task dataloaders\n",
    "sys.path.append('../')\n",
    "from tasks import task_dataset\n",
    "\n",
    "# load repe module\n",
    "from repe import repe_pipeline_registry\n",
    "repe_pipeline_registry()\n"
   ]
  },
  {
   "cell_type": "code",
   "execution_count": 2,
   "id": "6e985c96-4df2-42d0-82d1-14cd4fbec28b",
   "metadata": {},
   "outputs": [
    {
     "data": {
      "application/vnd.jupyter.widget-view+json": {
       "model_id": "32daf0b5f2ba4932bbc3e96b469a7d33",
       "version_major": 2,
       "version_minor": 0
      },
      "text/plain": [
       "Loading checkpoint shards:   0%|          | 0/2 [00:00<?, ?it/s]"
      ]
     },
     "metadata": {},
     "output_type": "display_data"
    }
   ],
   "source": [
    "model_name_or_path = \"meta-llama/Llama-2-7b-hf\"\n",
    "\n",
    "model = AutoModelForCausalLM.from_pretrained(model_name_or_path, torch_dtype=torch.bfloat16, device_map=\"auto\", token=True).eval()\n",
    "use_fast_tokenizer = \"LlamaForCausalLM\" not in model.config.architectures\n",
    "tokenizer = AutoTokenizer.from_pretrained(model_name_or_path, use_fast=use_fast_tokenizer, padding_side=\"left\", legacy=False, token=True)\n",
    "tokenizer.pad_token_id = 0 if tokenizer.pad_token_id is None else tokenizer.pad_token_id\n",
    "tokenizer.bos_token_id = 1\n",
    "\n",
    "rep_pipeline =  pipeline(\"rep-reading\", model=model, tokenizer=tokenizer)"
   ]
  },
  {
   "cell_type": "code",
   "execution_count": 8,
   "id": "f097707c-5256-47ae-9c6d-39f79e8ea6fa",
   "metadata": {},
   "outputs": [],
   "source": [
    "batch_size = 32\n",
    "max_length = 2048\n",
    "\n",
    "rep_token = -1\n",
    "hidden_layers = list(range(-1, -model.config.num_hidden_layers, -1))\n",
    "n_difference = 1\n",
    "direction_method = 'pca'"
   ]
  },
  {
   "cell_type": "code",
   "execution_count": 38,
   "id": "10f3042e-2667-46c4-89bf-52e0fafe0a71",
   "metadata": {},
   "outputs": [
    {
     "name": "stderr",
     "output_type": "stream",
     "text": [
      "Found cached dataset ai2_arc (/data/long_phan/.cache/huggingface/datasets/ai2_arc/ARC-Challenge/1.0.0/1569c2591ea2683779581d9fb467203d9aa95543bb9b75dcfde5da92529fd7f6)\n"
     ]
    },
    {
     "data": {
      "application/vnd.jupyter.widget-view+json": {
       "model_id": "36c8ccfa0a7c419ba87dae1faef443e8",
       "version_major": 2,
       "version_minor": 0
      },
      "text/plain": [
       "  0%|          | 0/3 [00:00<?, ?it/s]"
      ]
     },
     "metadata": {},
     "output_type": "display_data"
    },
    {
     "name": "stderr",
     "output_type": "stream",
     "text": [
      "Loading cached processed dataset at /data/long_phan/.cache/huggingface/datasets/ai2_arc/ARC-Challenge/1.0.0/1569c2591ea2683779581d9fb467203d9aa95543bb9b75dcfde5da92529fd7f6/cache-2ccd5ce024f76298.arrow\n",
      "Loading cached shuffled indices for dataset at /data/long_phan/.cache/huggingface/datasets/ai2_arc/ARC-Challenge/1.0.0/1569c2591ea2683779581d9fb467203d9aa95543bb9b75dcfde5da92529fd7f6/cache-e30699b38f84da3f.arrow\n"
     ]
    }
   ],
   "source": [
    "# Define tasks and #shots here\n",
    "\n",
    "# task, ntrain = 'obqa', 5\n",
    "# task, ntrain = 'csqa', 7\n",
    "task, ntrain = 'arc_challenge', 25\n",
    "# task, ntrain = 'race', 3\n",
    "\n",
    "\n",
    "dataset = task_dataset(task)(ntrain=ntrain)"
   ]
  },
  {
   "cell_type": "code",
   "execution_count": 39,
   "id": "ef5d269b-6da7-47b4-abf8-f538923f594e",
   "metadata": {},
   "outputs": [],
   "source": [
    "# Build an unsupervised LAT PCA representation\n",
    "direction_finder_kwargs= {\"n_components\": 1}\n",
    "rep_reader = rep_pipeline.get_directions(\n",
    "    dataset['train']['data'], \n",
    "    rep_token=rep_token, \n",
    "    hidden_layers=hidden_layers, \n",
    "    n_difference=n_difference, \n",
    "    train_labels=dataset['train']['labels'], \n",
    "    direction_method=direction_method,\n",
    "    direction_finder_kwargs=direction_finder_kwargs,\n",
    "    batch_size=batch_size,\n",
    "    max_length=max_length,\n",
    "    padding=\"longest\",\n",
    ")"
   ]
  },
  {
   "cell_type": "code",
   "execution_count": 40,
   "id": "257ab291-2bd7-4c98-85fd-e6b67eeb263e",
   "metadata": {
    "scrolled": true
   },
   "outputs": [
    {
     "name": "stdout",
     "output_type": "stream",
     "text": [
      "-1 : 0.49498327759197325\n",
      "=====\n",
      "-2 : 0.5050167224080268\n",
      "=====\n",
      "-3 : 0.5016722408026756\n",
      "=====\n",
      "-4 : 0.5083612040133779\n",
      "=====\n",
      "-5 : 0.5016722408026756\n",
      "=====\n",
      "-6 : 0.5250836120401338\n",
      "=====\n",
      "-7 : 0.5250836120401338\n",
      "=====\n",
      "-8 : 0.5284280936454849\n",
      "=====\n",
      "-9 : 0.5016722408026756\n",
      "=====\n",
      "-10 : 0.4983277591973244\n",
      "=====\n",
      "-11 : 0.5183946488294314\n",
      "=====\n",
      "-12 : 0.5217391304347826\n",
      "=====\n",
      "-13 : 0.5250836120401338\n",
      "=====\n",
      "-14 : 0.5317725752508361\n",
      "=====\n",
      "-15 : 0.5050167224080268\n",
      "=====\n",
      "-16 : 0.5317725752508361\n",
      "=====\n",
      "-17 : 0.46488294314381273\n",
      "=====\n",
      "-18 : 0.4916387959866221\n",
      "=====\n",
      "-19 : 0.5250836120401338\n",
      "=====\n",
      "-20 : 0.3311036789297659\n",
      "=====\n",
      "-21 : 0.3177257525083612\n",
      "=====\n",
      "-22 : 0.27759197324414714\n",
      "=====\n",
      "-23 : 0.2909698996655518\n",
      "=====\n",
      "-24 : 0.3076923076923077\n",
      "=====\n",
      "-25 : 0.29431438127090304\n",
      "=====\n",
      "-26 : 0.27424749163879597\n",
      "=====\n",
      "-27 : 0.26421404682274247\n",
      "=====\n",
      "-28 : 0.23745819397993312\n",
      "=====\n",
      "-29 : 0.2408026755852843\n",
      "=====\n",
      "-30 : 0.2408026755852843\n",
      "=====\n",
      "-31 : 0.24414715719063546\n",
      "=====\n"
     ]
    }
   ],
   "source": [
    "# Eval validation\n",
    "results_val = {layer: {} for layer in hidden_layers}\n",
    "labels = dataset['val']['labels']\n",
    "H_tests = rep_pipeline(dataset['val']['data'],\n",
    "                    rep_token=rep_token, \n",
    "                    hidden_layers=hidden_layers, \n",
    "                    rep_reader=rep_reader,\n",
    "                    batch_size=8,\n",
    "                    max_length=2048,\n",
    "                    padding=\"longest\")\n",
    "\n",
    "for layer in hidden_layers:\n",
    "    H_test = [H[layer] for H in H_tests] \n",
    "    unflattened_H_tests = [list(islice(H_test, sum(len(c) for c in labels[:i]), sum(len(c) for c in labels[:i+1]))) for i in range(len(labels))]\n",
    "\n",
    "    sign = rep_reader.direction_signs[layer]\n",
    "    eval_func = np.argmin if sign == -1 else np.argmax\n",
    "    cors = np.mean([labels[i].index(1) == eval_func(H) for i, H in enumerate(unflattened_H_tests)])\n",
    "\n",
    "    results_val[layer] = cors\n",
    "    \n",
    "    print(f\"{layer} : {cors}\")\n",
    "    print(\"=====\")    "
   ]
  },
  {
   "cell_type": "code",
   "execution_count": 41,
   "id": "4a087af5-45a9-4a74-921f-d1b068ea1113",
   "metadata": {
    "scrolled": true
   },
   "outputs": [
    {
     "name": "stdout",
     "output_type": "stream",
     "text": [
      "-1 : 0.5349829351535836\n",
      "=====\n",
      "-2 : 0.5443686006825939\n",
      "=====\n",
      "-3 : 0.5494880546075085\n",
      "=====\n",
      "-4 : 0.5511945392491467\n",
      "=====\n",
      "-5 : 0.5486348122866894\n",
      "=====\n",
      "-6 : 0.5469283276450512\n",
      "=====\n",
      "-7 : 0.5477815699658704\n",
      "=====\n",
      "-8 : 0.5494880546075085\n",
      "=====\n",
      "-9 : 0.5494880546075085\n",
      "=====\n",
      "-10 : 0.5486348122866894\n",
      "=====\n",
      "-11 : 0.5460750853242321\n",
      "=====\n",
      "-12 : 0.5486348122866894\n",
      "=====\n",
      "-13 : 0.5307167235494881\n",
      "=====\n",
      "-14 : 0.5307167235494881\n",
      "=====\n",
      "-15 : 0.5136518771331058\n",
      "=====\n",
      "-16 : 0.5307167235494881\n",
      "=====\n",
      "-17 : 0.4641638225255973\n",
      "=====\n",
      "-18 : 0.4974402730375427\n",
      "=====\n",
      "-19 : 0.5162116040955631\n",
      "=====\n",
      "-20 : 0.3191126279863481\n",
      "=====\n",
      "-21 : 0.30887372013651876\n",
      "=====\n",
      "-22 : 0.24232081911262798\n",
      "=====\n",
      "-23 : 0.257679180887372\n",
      "=====\n",
      "-24 : 0.2551194539249147\n",
      "=====\n",
      "-25 : 0.2593856655290102\n",
      "=====\n",
      "-26 : 0.23293515358361774\n",
      "=====\n",
      "-27 : 0.24658703071672355\n",
      "=====\n",
      "-28 : 0.257679180887372\n",
      "=====\n",
      "-29 : 0.24146757679180889\n",
      "=====\n",
      "-30 : 0.26706484641638223\n",
      "=====\n",
      "-31 : 0.2508532423208191\n",
      "=====\n"
     ]
    }
   ],
   "source": [
    "# Eval Test\n",
    "results_test = {layer: {} for layer in hidden_layers}\n",
    "labels = dataset['test']['labels']\n",
    "H_tests = rep_pipeline(dataset['test']['data'], \n",
    "                    rep_token=rep_token, \n",
    "                    hidden_layers=hidden_layers, \n",
    "                    rep_reader=rep_reader,\n",
    "                    batch_size=8,\n",
    "                    max_length=2048,\n",
    "                    padding=\"longest\")\n",
    "\n",
    "for layer in hidden_layers:\n",
    "    H_test = [H[layer] for H in H_tests] \n",
    "    unflattened_H_tests = [list(islice(H_test, sum(len(c) for c in labels[:i]), sum(len(c) for c in labels[:i+1]))) for i in range(len(labels))]\n",
    "\n",
    "    sign = rep_reader.direction_signs[layer]\n",
    "    eval_func = np.argmin if sign == -1 else np.argmax\n",
    "    cors = np.mean([labels[i].index(1) == eval_func(H) for i, H in enumerate(unflattened_H_tests)])\n",
    "\n",
    "    results_test[layer] = cors\n",
    "    \n",
    "    print(f\"{layer} : {cors}\")\n",
    "    print(\"=====\") "
   ]
  },
  {
   "cell_type": "code",
   "execution_count": 42,
   "id": "c0bcd823-6a3a-4c67-b752-2fd890b4df80",
   "metadata": {},
   "outputs": [
    {
     "data": {
      "image/png": "[encoded data removed]",
      "text/plain": [
       "<Figure size 640x480 with 1 Axes>"
      ]
     },
     "metadata": {},
     "output_type": "display_data"
    }
   ],
   "source": [
    "x = list(results_val.keys())\n",
    "y_val = [results_val[layer] for layer in hidden_layers]\n",
    "y_test = [results_test[layer] for layer in hidden_layers]\n",
    "\n",
    "\n",
    "plt.plot(x, y_val, label=\"Dev\")\n",
    "plt.plot(x, y_test, label=\"Test\")\n",
    "\n",
    "plt.title(f\"{task} Acc by Layer\")\n",
    "plt.xlabel(\"Layer\")\n",
    "plt.ylabel(\"Acc\")\n",
    "plt.legend()\n",
    "plt.grid(True)\n",
    "plt.show()"
   ]
  }
 ],
 "metadata": {
  "kernelspec": {
   "display_name": "Python 3",
   "language": "python",
   "name": "python3"
  },
  "language_info": {
   "codemirror_mode": {
    "name": "ipython",
    "version": 3
   },
   "file_extension": ".py",
   "mimetype": "text/x-python",
   "name": "python",
   "nbconvert_exporter": "python",
   "pygments_lexer": "ipython3",
   "version": "3.10.9"
  }
 },
 "nbformat": 4,
 "nbformat_minor": 5
}
